{
 "cells": [
  {
   "attachments": {},
   "cell_type": "markdown",
   "id": "cff31034",
   "metadata": {},
   "source": [
    "### Detecting Fraud Calls vis-à-vis Natural Language Processing"
   ]
  },
  {
   "attachments": {},
   "cell_type": "markdown",
   "id": "d52dce57",
   "metadata": {},
   "source": [
    "AUTHOR:  Anurag Dutta (anuragdutta.research@gmail.com)"
   ]
  },
  {
   "attachments": {},
   "cell_type": "markdown",
   "id": "6d3d4806",
   "metadata": {},
   "source": [
    "CREATED: 2022-12-26 00:40:00"
   ]
  },
  {
   "attachments": {},
   "cell_type": "markdown",
   "id": "577aabed",
   "metadata": {},
   "source": [
    "DATASET: Private"
   ]
  },
  {
   "attachments": {},
   "cell_type": "markdown",
   "id": "satisfied-marathon",
   "metadata": {
    "papermill": {
     "duration": 0.013738,
     "end_time": "2021-07-04T03:33:22.946378",
     "exception": false,
     "start_time": "2021-07-04T03:33:22.932640",
     "status": "completed"
    },
    "tags": []
   },
   "source": [
    "### Import the Dataset"
   ]
  },
  {
   "cell_type": "code",
   "execution_count": 173,
   "id": "challenging-durham",
   "metadata": {
    "execution": {
     "iopub.execute_input": "2021-07-04T03:33:22.978020Z",
     "iopub.status.busy": "2021-07-04T03:33:22.977329Z",
     "iopub.status.idle": "2021-07-04T03:33:23.009698Z",
     "shell.execute_reply": "2021-07-04T03:33:23.009085Z",
     "shell.execute_reply.started": "2021-07-04T03:30:13.545156Z"
    },
    "papermill": {
     "duration": 0.049524,
     "end_time": "2021-07-04T03:33:23.009910",
     "exception": false,
     "start_time": "2021-07-04T03:33:22.960386",
     "status": "completed"
    },
    "tags": []
   },
   "outputs": [],
   "source": [
    "import re\n",
    "import numpy as np\n",
    "import pandas as pd\n",
    "import matplotlib.pyplot as plt\n",
    "from nltk.stem import WordNetLemmatizer\n",
    "from nltk.corpus import stopwords\n",
    "from sklearn.feature_extraction.text import TfidfVectorizer\n",
    "from sklearn import metrics\n",
    "from sklearn.metrics import recall_score,classification_report\n",
    "from sklearn.model_selection import train_test_split\n",
    "from sklearn.linear_model import LogisticRegression\n",
    "from sklearn.svm import SVC\n",
    "from sklearn.neighbors import KNeighborsClassifier\n",
    "from sklearn.ensemble import RandomForestClassifier\n",
    "from sklearn.naive_bayes import GaussianNB\n",
    "from sklearn.metrics import confusion_matrix,accuracy_score\n",
    "data = pd.read_csv(\"FraudCallDataset.csv\", sep=',', names=['LABEL', 'FEATURE'])"
   ]
  },
  {
   "attachments": {},
   "cell_type": "markdown",
   "id": "35b87575",
   "metadata": {},
   "source": [
    "### Visualize the Data"
   ]
  },
  {
   "cell_type": "code",
   "execution_count": 174,
   "id": "7876b0f9",
   "metadata": {},
   "outputs": [
    {
     "data": {
      "text/html": [
       "<div>\n",
       "<style scoped>\n",
       "    .dataframe tbody tr th:only-of-type {\n",
       "        vertical-align: middle;\n",
       "    }\n",
       "\n",
       "    .dataframe tbody tr th {\n",
       "        vertical-align: top;\n",
       "    }\n",
       "\n",
       "    .dataframe thead th {\n",
       "        text-align: right;\n",
       "    }\n",
       "</style>\n",
       "<table border=\"1\" class=\"dataframe\">\n",
       "  <thead>\n",
       "    <tr style=\"text-align: right;\">\n",
       "      <th></th>\n",
       "      <th>LABEL</th>\n",
       "      <th>FEATURE</th>\n",
       "    </tr>\n",
       "  </thead>\n",
       "  <tbody>\n",
       "    <tr>\n",
       "      <th>0</th>\n",
       "      <td>fraud</td>\n",
       "      <td>hello, i m bank manager of SBI, ur debit card ...</td>\n",
       "    </tr>\n",
       "    <tr>\n",
       "      <th>1</th>\n",
       "      <td>fraud</td>\n",
       "      <td>Todays Vodafone numbers ending with 4882 are s...</td>\n",
       "    </tr>\n",
       "    <tr>\n",
       "      <th>2</th>\n",
       "      <td>normal</td>\n",
       "      <td>Please don't say like that. Hi hi hi</td>\n",
       "    </tr>\n",
       "    <tr>\n",
       "      <th>3</th>\n",
       "      <td>normal</td>\n",
       "      <td>Thank you!</td>\n",
       "    </tr>\n",
       "    <tr>\n",
       "      <th>4</th>\n",
       "      <td>normal</td>\n",
       "      <td>Oh that was a forwarded message. I thought you...</td>\n",
       "    </tr>\n",
       "  </tbody>\n",
       "</table>\n",
       "</div>"
      ],
      "text/plain": [
       "    LABEL                                            FEATURE\n",
       "0   fraud  hello, i m bank manager of SBI, ur debit card ...\n",
       "1   fraud  Todays Vodafone numbers ending with 4882 are s...\n",
       "2  normal               Please don't say like that. Hi hi hi\n",
       "3  normal                                         Thank you!\n",
       "4  normal  Oh that was a forwarded message. I thought you..."
      ]
     },
     "execution_count": 174,
     "metadata": {},
     "output_type": "execute_result"
    }
   ],
   "source": [
    "data.head()"
   ]
  },
  {
   "cell_type": "code",
   "execution_count": 175,
   "id": "caring-vehicle",
   "metadata": {
    "execution": {
     "iopub.execute_input": "2021-07-04T03:33:23.052768Z",
     "iopub.status.busy": "2021-07-04T03:33:23.051933Z",
     "iopub.status.idle": "2021-07-04T03:33:23.071907Z",
     "shell.execute_reply": "2021-07-04T03:33:23.072417Z",
     "shell.execute_reply.started": "2021-07-04T03:30:15.158887Z"
    },
    "papermill": {
     "duration": 0.047694,
     "end_time": "2021-07-04T03:33:23.072622",
     "exception": false,
     "start_time": "2021-07-04T03:33:23.024928",
     "status": "completed"
    },
    "tags": []
   },
   "outputs": [
    {
     "data": {
      "text/html": [
       "<div>\n",
       "<style scoped>\n",
       "    .dataframe tbody tr th:only-of-type {\n",
       "        vertical-align: middle;\n",
       "    }\n",
       "\n",
       "    .dataframe tbody tr th {\n",
       "        vertical-align: top;\n",
       "    }\n",
       "\n",
       "    .dataframe thead th {\n",
       "        text-align: right;\n",
       "    }\n",
       "</style>\n",
       "<table border=\"1\" class=\"dataframe\">\n",
       "  <thead>\n",
       "    <tr style=\"text-align: right;\">\n",
       "      <th></th>\n",
       "      <th>LABEL</th>\n",
       "      <th>FEATURE</th>\n",
       "    </tr>\n",
       "  </thead>\n",
       "  <tbody>\n",
       "    <tr>\n",
       "      <th>5920</th>\n",
       "      <td>fraud</td>\n",
       "      <td>to get 1000 INR voucher please call on 8898655...</td>\n",
       "    </tr>\n",
       "    <tr>\n",
       "      <th>5921</th>\n",
       "      <td>fraud</td>\n",
       "      <td>to get free access of google cloud account hit...</td>\n",
       "    </tr>\n",
       "    <tr>\n",
       "      <th>5922</th>\n",
       "      <td>fraud</td>\n",
       "      <td>to get free AWS cloud account hit on given mes...</td>\n",
       "    </tr>\n",
       "    <tr>\n",
       "      <th>5923</th>\n",
       "      <td>fraud</td>\n",
       "      <td>to get free access of Microsoft Azure hit on g...</td>\n",
       "    </tr>\n",
       "    <tr>\n",
       "      <th>5924</th>\n",
       "      <td>fraud</td>\n",
       "      <td>hello sir, we are from your bank have you fill...</td>\n",
       "    </tr>\n",
       "  </tbody>\n",
       "</table>\n",
       "</div>"
      ],
      "text/plain": [
       "      LABEL                                            FEATURE\n",
       "5920  fraud  to get 1000 INR voucher please call on 8898655...\n",
       "5921  fraud  to get free access of google cloud account hit...\n",
       "5922  fraud  to get free AWS cloud account hit on given mes...\n",
       "5923  fraud  to get free access of Microsoft Azure hit on g...\n",
       "5924  fraud  hello sir, we are from your bank have you fill..."
      ]
     },
     "execution_count": 175,
     "metadata": {},
     "output_type": "execute_result"
    }
   ],
   "source": [
    "data.tail()"
   ]
  },
  {
   "attachments": {},
   "cell_type": "markdown",
   "id": "b31a198a",
   "metadata": {},
   "source": [
    "### Data Preprocessing"
   ]
  },
  {
   "cell_type": "code",
   "execution_count": 176,
   "id": "reliable-scheme",
   "metadata": {
    "execution": {
     "iopub.execute_input": "2021-07-04T03:33:24.301532Z",
     "iopub.status.busy": "2021-07-04T03:33:24.300861Z",
     "iopub.status.idle": "2021-07-04T03:33:25.323047Z",
     "shell.execute_reply": "2021-07-04T03:33:25.322413Z",
     "shell.execute_reply.started": "2021-07-04T03:31:01.774667Z"
    },
    "papermill": {
     "duration": 1.043648,
     "end_time": "2021-07-04T03:33:25.323207",
     "exception": false,
     "start_time": "2021-07-04T03:33:24.279559",
     "status": "completed"
    },
    "tags": []
   },
   "outputs": [],
   "source": [
    "ps = WordNetLemmatizer()\n",
    "cv = TfidfVectorizer(max_features=2000)"
   ]
  },
  {
   "attachments": {},
   "cell_type": "markdown",
   "id": "73ba9f97",
   "metadata": {},
   "source": [
    "### Modelling (Gaussian Naive Bayes)"
   ]
  },
  {
   "cell_type": "code",
   "execution_count": 177,
   "id": "valued-pharmacology",
   "metadata": {
    "execution": {
     "iopub.execute_input": "2021-07-04T03:33:25.363165Z",
     "iopub.status.busy": "2021-07-04T03:33:25.362285Z",
     "iopub.status.idle": "2021-07-04T03:33:25.365584Z",
     "shell.execute_reply": "2021-07-04T03:33:25.365043Z",
     "shell.execute_reply.started": "2021-07-04T03:31:04.954879Z"
    },
    "papermill": {
     "duration": 0.02653,
     "end_time": "2021-07-04T03:33:25.365737",
     "exception": false,
     "start_time": "2021-07-04T03:33:25.339207",
     "status": "completed"
    },
    "tags": []
   },
   "outputs": [
    {
     "data": {
      "image/png": "[encoded data removed]",
      "text/plain": [
       "<Figure size 432x288 with 2 Axes>"
      ]
     },
     "metadata": {
      "needs_background": "light"
     },
     "output_type": "display_data"
    },
    {
     "name": "stdout",
     "output_type": "stream",
     "text": [
      "Accuracy:  0.8514767932489451\n",
      "Recall:  0.8499525166191833\n"
     ]
    }
   ],
   "source": [
    "def remove_digit(data) :\n",
    "    corpos = []\n",
    "    for i in range(0, len(data)) :\n",
    "        review = re.sub('[^a-zA-Z]', ' ', data['FEATURE'][i])\n",
    "        review = review.lower()\n",
    "        review = review.split()\n",
    "        review = [ps.lemmatize(word) for word in review if word not in stopwords.words('english')]\n",
    "        review = ' '.join(review)\n",
    "        corpos.append(review)\n",
    "    return corpos\n",
    "\n",
    "def detect_model(corpos, data):\n",
    "    x = cv.fit_transform(corpos).toarray()\n",
    "    y = pd.get_dummies(data['LABEL'])\n",
    "    y = y.iloc[:, 1].values\n",
    "    x_train, x_test, y_train, y_test = train_test_split(x, y, test_size=0.20, random_state=42)\n",
    "    fraud_detect = GaussianNB().fit(x_train, y_train)\n",
    "    y_ped = fraud_detect.predict(x_test)\n",
    "    cong_m = confusion_matrix(y_test, y_ped)\n",
    "    cm_display = metrics.ConfusionMatrixDisplay(confusion_matrix = cong_m, display_labels = [False, True])\n",
    "    cm_display.plot()\n",
    "    plt.show()\n",
    "    acc = accuracy_score(y_test, y_ped)\n",
    "    recall = recall_score(y_test,y_ped)\n",
    "    print(\"Accuracy: \", acc)\n",
    "    print(\"Recall: \", recall)\n",
    "    return fraud_detect\n",
    "    \n",
    "proper_list = remove_digit(data)\n",
    "model = detect_model(proper_list, data)"
   ]
  },
  {
   "attachments": {},
   "cell_type": "markdown",
   "id": "54d86681",
   "metadata": {},
   "source": [
    "### Modelling (Support Vector Machine)"
   ]
  },
  {
   "cell_type": "code",
   "execution_count": 178,
   "id": "aa8931bb",
   "metadata": {},
   "outputs": [
    {
     "data": {
      "image/png": "[encoded data removed]",
      "text/plain": [
       "<Figure size 432x288 with 2 Axes>"
      ]
     },
     "metadata": {
      "needs_background": "light"
     },
     "output_type": "display_data"
    },
    {
     "name": "stdout",
     "output_type": "stream",
     "text": [
      "Accuracy:  0.979746835443038\n",
      "Recall:  0.9981006647673314\n"
     ]
    }
   ],
   "source": [
    "def remove_digit(data) :\n",
    "    corpos = []\n",
    "    for i in range(0, len(data)) :\n",
    "        review = re.sub('[^a-zA-Z]', ' ', data['FEATURE'][i])\n",
    "        review = review.lower()\n",
    "        review = review.split()\n",
    "        review = [ps.lemmatize(word) for word in review if word not in stopwords.words('english')]\n",
    "        review = ' '.join(review)\n",
    "        corpos.append(review)\n",
    "    return corpos\n",
    "\n",
    "def detect_model(corpos, data):\n",
    "    x = cv.fit_transform(corpos).toarray()\n",
    "    y = pd.get_dummies(data['LABEL'])\n",
    "    y = y.iloc[:, 1].values\n",
    "    x_train, x_test, y_train, y_test = train_test_split(x, y, test_size=0.20, random_state=42)\n",
    "    fraud_detect = SVC().fit(x_train, y_train)\n",
    "    y_ped = fraud_detect.predict(x_test)\n",
    "    cong_m = confusion_matrix(y_test, y_ped)\n",
    "    cm_display = metrics.ConfusionMatrixDisplay(confusion_matrix = cong_m, display_labels = [False, True])\n",
    "    cm_display.plot()\n",
    "    plt.show()\n",
    "    acc = accuracy_score(y_test, y_ped)\n",
    "    recall = recall_score(y_test,y_ped)\n",
    "    print(\"Accuracy: \", acc)\n",
    "    print(\"Recall: \", recall)\n",
    "    return fraud_detect\n",
    "    \n",
    "proper_list = remove_digit(data)\n",
    "model = detect_model(proper_list, data)"
   ]
  },
  {
   "attachments": {},
   "cell_type": "markdown",
   "id": "5c0c0255",
   "metadata": {},
   "source": [
    "### Modelling (k - Nearest Neighbours)"
   ]
  },
  {
   "cell_type": "code",
   "execution_count": 179,
   "id": "58f73bc4",
   "metadata": {},
   "outputs": [
    {
     "data": {
      "image/png": "[encoded data removed]",
      "text/plain": [
       "<Figure size 432x288 with 2 Axes>"
      ]
     },
     "metadata": {
      "needs_background": "light"
     },
     "output_type": "display_data"
    },
    {
     "name": "stdout",
     "output_type": "stream",
     "text": [
      "Accuracy:  0.9324894514767933\n",
      "Recall:  0.9990503323836657\n"
     ]
    }
   ],
   "source": [
    "def remove_digit(data) :\n",
    "    corpos = []\n",
    "    for i in range(0, len(data)) :\n",
    "        review = re.sub('[^a-zA-Z]', ' ', data['FEATURE'][i])\n",
    "        review = review.lower()\n",
    "        review = review.split()\n",
    "        review = [ps.lemmatize(word) for word in review if word not in stopwords.words('english')]\n",
    "        review = ' '.join(review)\n",
    "        corpos.append(review)\n",
    "    return corpos\n",
    "\n",
    "def detect_model(corpos, data):\n",
    "    x = cv.fit_transform(corpos).toarray()\n",
    "    y = pd.get_dummies(data['LABEL'])\n",
    "    y = y.iloc[:, 1].values\n",
    "    x_train, x_test, y_train, y_test = train_test_split(x, y, test_size=0.20, random_state=42)\n",
    "    fraud_detect = KNeighborsClassifier().fit(x_train, y_train)\n",
    "    y_ped = fraud_detect.predict(x_test)\n",
    "    cong_m = confusion_matrix(y_test, y_ped)\n",
    "    cm_display = metrics.ConfusionMatrixDisplay(confusion_matrix = cong_m, display_labels = [False, True])\n",
    "    cm_display.plot()\n",
    "    plt.show()\n",
    "    acc = accuracy_score(y_test, y_ped)\n",
    "    recall = recall_score(y_test,y_ped)\n",
    "    print(\"Accuracy: \", acc)\n",
    "    print(\"Recall: \", recall)\n",
    "    return fraud_detect\n",
    "    \n",
    "proper_list = remove_digit(data)\n",
    "model = detect_model(proper_list, data)"
   ]
  },
  {
   "attachments": {},
   "cell_type": "markdown",
   "id": "bc8c2a25",
   "metadata": {},
   "source": [
    "### Modelling (Random Forest)"
   ]
  },
  {
   "cell_type": "code",
   "execution_count": 180,
   "id": "8fc02e05",
   "metadata": {},
   "outputs": [
    {
     "data": {
      "image/png": "[encoded data removed]",
      "text/plain": [
       "<Figure size 432x288 with 2 Axes>"
      ]
     },
     "metadata": {
      "needs_background": "light"
     },
     "output_type": "display_data"
    },
    {
     "name": "stdout",
     "output_type": "stream",
     "text": [
      "Accuracy:  0.9789029535864979\n",
      "Recall:  0.9981006647673314\n"
     ]
    }
   ],
   "source": [
    "def remove_digit(data) :\n",
    "    corpos = []\n",
    "    for i in range(0, len(data)) :\n",
    "        review = re.sub('[^a-zA-Z]', ' ', data['FEATURE'][i])\n",
    "        review = review.lower()\n",
    "        review = review.split()\n",
    "        review = [ps.lemmatize(word) for word in review if word not in stopwords.words('english')]\n",
    "        review = ' '.join(review)\n",
    "        corpos.append(review)\n",
    "    return corpos\n",
    "\n",
    "def detect_model(corpos, data):\n",
    "    x = cv.fit_transform(corpos).toarray()\n",
    "    y = pd.get_dummies(data['LABEL'])\n",
    "    y = y.iloc[:, 1].values\n",
    "    x_train, x_test, y_train, y_test = train_test_split(x, y, test_size=0.20, random_state=42)\n",
    "    fraud_detect = RandomForestClassifier().fit(x_train, y_train)\n",
    "    y_ped = fraud_detect.predict(x_test)\n",
    "    cong_m = confusion_matrix(y_test, y_ped)\n",
    "    cm_display = metrics.ConfusionMatrixDisplay(confusion_matrix = cong_m, display_labels = [False, True])\n",
    "    cm_display.plot()\n",
    "    plt.show()\n",
    "    acc = accuracy_score(y_test, y_ped)\n",
    "    recall = recall_score(y_test,y_ped)\n",
    "    print(\"Accuracy: \", acc)\n",
    "    print(\"Recall: \", recall)\n",
    "    return fraud_detect\n",
    "    \n",
    "proper_list = remove_digit(data)\n",
    "model = detect_model(proper_list, data)"
   ]
  }
 ],
 "metadata": {
  "kernelspec": {
   "display_name": "Python 3",
   "language": "python",
   "name": "python3"
  },
  "language_info": {
   "codemirror_mode": {
    "name": "ipython",
    "version": 3
   },
   "file_extension": ".py",
   "mimetype": "text/x-python",
   "name": "python",
   "nbconvert_exporter": "python",
   "pygments_lexer": "ipython3",
   "version": "3.9.13 (tags/v3.9.13:6de2ca5, May 17 2022, 16:36:42) [MSC v.1929 64 bit (AMD64)]"
  },
  "papermill": {
   "default_parameters": {},
   "duration": 27.953561,
   "end_time": "2021-07-04T03:33:42.024209",
   "environment_variables": {},
   "exception": null,
   "input_path": "__notebook__.ipynb",
   "output_path": "__notebook__.ipynb",
   "parameters": {},
   "start_time": "2021-07-04T03:33:14.070648",
   "version": "2.3.3"
  },
  "vscode": {
   "interpreter": {
    "hash": "628c80e3809a46203876fdd5cbc816d645c25628ab36310a47bd2d99a309ccdc"
   }
  }
 },
 "nbformat": 4,
 "nbformat_minor": 5
}
